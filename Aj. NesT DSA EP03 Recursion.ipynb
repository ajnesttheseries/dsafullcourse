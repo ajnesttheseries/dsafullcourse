{
  "nbformat": 4,
  "nbformat_minor": 0,
  "metadata": {
    "colab": {
      "provenance": [],
      "collapsed_sections": []
    },
    "kernelspec": {
      "name": "python3",
      "display_name": "Python 3"
    }
  },
  "cells": [
    {
      "cell_type": "markdown",
      "metadata": {
        "id": "HRkJAaxP9Dfn"
      },
      "source": [
        "# Data Structures and Algorithms\n",
        "\n",
        "**Todsapon Banklongsi (Aj. NesT the Series)**\n",
        "\n",
        "Facebook: [Aj. NesT the Series](https://www.facebook.com/ajnesttheseries)\n",
        "\n",
        "YouTube: [Aj. NesT the Series](https://www.youtube.com/ajnesttheseries)\n",
        "\n",
        "**ผู้เรียนสามารถบันทึกไฟล์เป็นของตัวเองเพื่อใช้เขียนโปรแกรมบน Google Colab ได้** \n",
        "\n",
        "**โดยไปที่ File --> Save a Copy in Drive**"
      ]
    },
    {
      "cell_type": "markdown",
      "source": [
        "# Recursion\n",
        "\n",
        "**Recursion is self-calling programming**\n",
        "\n",
        "**\"Of all ideas I have introduced to children, recursion stands out as the one idea that is particularly able to evoke an excited response.\"**\n",
        "\n",
        "\"จากความคิดทั้งหมดที่ฉันจะแนะนำให้เด็ก ๆ รู้จัก การเรียกซ้ำมีความโดดเด่นคือเป็นแนวคิดเดียวที่สามารถทำให้เกิดการตอบสนองที่น่าตื่นเต้น\"\n",
        "\n",
        "— Seymour Papert, Mindstorms\n"
      ],
      "metadata": {
        "id": "inQiXDaGvvrm"
      }
    },
    {
      "cell_type": "markdown",
      "metadata": {
        "id": "E-IZBkzD9G2R"
      },
      "source": [
        "![alt text](https://theburningmonk.com/wp-content/uploads/2017/08/recursion-01.png)\n",
        "\n",
        "Image: theburningmonk\n",
        "\n",
        "[Example: Recursion](http://i.imgur.com/jk4TT3n.gif)\n",
        "\n",
        "## Recursive Functions and Recursive Data Structures\n",
        "\n",
        "**What are you working on?**\n",
        "\n",
        "trying to fix the problems I created when I tried to fix the problems I created when I tried to fix the problems I created when...\n",
        "![alt text](https://files.realpython.com/media/fixing_problems.ffd6d34e887e.png)\n",
        "\n",
        "Image: xkcd.com"
      ]
    },
    {
      "cell_type": "markdown",
      "source": [
        "## Types of Recursive Functions\n",
        "\n",
        "### 1. Direct Recursive Functions\n",
        "\n",
        "**1.1 Tail Recursion**\n",
        "\n",
        "Tail Recursion occurs if a recursive function calls itself and the function call is the last statement to be processed in the function before returning having reached the base case.\n",
        "\n",
        "```\n",
        "Order of Execution : \n",
        "print(1) -> counting(1) -> print(2) -> counting(2) -> print(3) -> counting(3) -> \n",
        "print(4) -> counting(4) -> print(5) -> counting(5) -> print(6) -> counting(6) -> \n",
        "print(7) -> counting(7) -> print(8) -> counting(8)  -> n == 9\n",
        "```\n",
        "\n",
        "\n",
        "\n"
      ],
      "metadata": {
        "id": "uAnH1XXcU9eT"
      }
    },
    {
      "cell_type": "code",
      "source": [
        "def counting(n):\n",
        "    if n == 9: # base case or break-down condition\n",
        "        return  \n",
        "    else:      # recursion case\n",
        "        print(n)\n",
        "        counting(n+1)\n",
        "        \n",
        "counting(1)     "
      ],
      "metadata": {
        "colab": {
          "base_uri": "https://localhost:8080/"
        },
        "id": "8xChPnVlVNxy",
        "outputId": "aaca6138-f4d6-4436-8e64-d6127b80de14"
      },
      "execution_count": null,
      "outputs": [
        {
          "output_type": "stream",
          "name": "stdout",
          "text": [
            "1\n",
            "2\n",
            "3\n",
            "4\n",
            "5\n",
            "6\n",
            "7\n",
            "8\n"
          ]
        }
      ]
    },
    {
      "cell_type": "markdown",
      "source": [
        "**1.2 Non Tail Recursion**\n",
        "\n",
        "Non Tail Recursion occurs if a recursive function calls itself and the function call is not the last statement to be processed in the function. \n",
        "\n",
        "```\n",
        "counting(8) -> counting(7) -> counting(6) -> counting(5) -> counting(4) -> \n",
        "counting(3) -> counting(2) -> counting(1) -> n == 0 condition satisfies -> \n",
        "Now print statement\n",
        "```\n",
        "\n"
      ],
      "metadata": {
        "id": "JPuwIBr0a2VU"
      }
    },
    {
      "cell_type": "code",
      "source": [
        "def counting(n):\n",
        "    if n == 0: # base case or break-down condition\n",
        "        return  \n",
        "    else: \n",
        "         # recursive call is not the last statement\n",
        "        counting(n-1)\n",
        "        print(n)\n",
        "        \n",
        "counting(8)  "
      ],
      "metadata": {
        "colab": {
          "base_uri": "https://localhost:8080/"
        },
        "id": "lzjbv7g-Y4xw",
        "outputId": "a3f9b4c4-a262-4825-d7f2-076b81167932"
      },
      "execution_count": null,
      "outputs": [
        {
          "output_type": "stream",
          "name": "stdout",
          "text": [
            "1\n",
            "2\n",
            "3\n",
            "4\n",
            "5\n",
            "6\n",
            "7\n",
            "8\n"
          ]
        }
      ]
    },
    {
      "cell_type": "markdown",
      "source": [
        "**1.3 Tree Recursion** \\\n",
        "\n",
        "Tree Recursion in Python is a type of recursion in which a function is called two or more times in the same function.\n",
        "\n",
        "![alt text](https://www.mathwarehouse.com/programming/images/fibonacci-recursion-demonstration-animation-python.gif)\n",
        "\n",
        "Image: penjee"
      ],
      "metadata": {
        "id": "MOIZs6mjc9em"
      }
    },
    {
      "cell_type": "code",
      "source": [
        "def fibonacci(n):\n",
        "    if n == 0:\n",
        "        return 0\n",
        "    if n == 1:\n",
        "        return 1\n",
        "    return fibonacci(n-1) + fibonacci(n-2)\n",
        "    \n",
        "print(fibonacci(7))     "
      ],
      "metadata": {
        "colab": {
          "base_uri": "https://localhost:8080/"
        },
        "id": "yQxkFA19Y-lf",
        "outputId": "10402e4e-e01a-4901-d6b8-2df966894bb5"
      },
      "execution_count": null,
      "outputs": [
        {
          "output_type": "stream",
          "name": "stdout",
          "text": [
            "13\n"
          ]
        }
      ]
    },
    {
      "cell_type": "markdown",
      "source": [
        "### 2. Indirect Recursive Functions\n",
        "\n",
        "![alt text](https://d2a032ejo53cab.cloudfront.net/Glossary/KIELsPiz/Untitled-Diagram-1.png)\n",
        "\n",
        "Image: quantinsti"
      ],
      "metadata": {
        "id": "sHk1vmseVjZU"
      }
    },
    {
      "cell_type": "code",
      "source": [
        "def func1(a):\n",
        "    if a % 2 == 0:\n",
        "        print(a) \n",
        "        return \n",
        "    a += 1\n",
        "    func2(a)\n",
        "\n",
        "def func2(a):\n",
        "    if a % 2 == 0:\n",
        "        print(a) \n",
        "        return\n",
        "    a += 2\n",
        "    func1(a)\n",
        "\n",
        "func2(13)    "
      ],
      "metadata": {
        "colab": {
          "base_uri": "https://localhost:8080/"
        },
        "id": "N1ABTPY7VmhA",
        "outputId": "00c647bd-81f0-443e-f69e-26e229e505a9"
      },
      "execution_count": null,
      "outputs": [
        {
          "output_type": "stream",
          "name": "stdout",
          "text": [
            "16\n"
          ]
        }
      ]
    },
    {
      "cell_type": "markdown",
      "source": [
        "## Application of Recursion\n",
        "\n",
        "Recursive algorithms are usually shorter and are used to solve many complex real world problems. Some of them are :\n",
        "\n",
        "*   Tower of Hanoi\n",
        "*   Postfix, Prefix, Infix Conversion\n",
        "*   Parenthesis Matching\n",
        "*   N-Queen’s Problem\n",
        "*   Depth First Search, Breadth First Search"
      ],
      "metadata": {
        "id": "APO9xhsdfJjt"
      }
    },
    {
      "cell_type": "markdown",
      "source": [
        "## Recursion Exercises \n",
        "\n",
        "## Exercise 1: Calculating Factorial\n",
        "\n",
        "### 1.1 Iteration using for loop"
      ],
      "metadata": {
        "id": "OBSrBUTI0jNX"
      }
    },
    {
      "cell_type": "code",
      "source": [
        "#Calualting Factotial using for loop\n",
        "def factorial_for_loop(n):\n",
        "    result = 1\n",
        "    if n > 1:\n",
        "        for i in range(1, n+1):\n",
        "            result = result * i\n",
        "        return result\n",
        "    else:\n",
        "        return 'n has to be positive'\n",
        "\n",
        "input1 = input(\"Enter a number: \")\n",
        "input1 = int(input1)\n",
        "#ตัว f หน้าข้อความ คือการกำหนดให้ข้อความทำงานในรูปแบบของ f-strings \n",
        "#เวลาต้องการแทรกตัวแปรให้ใช้เครื่องหมายปีกกา { } คลุมตัวแปรที่ต้องการแสดง\n",
        "#print(f\" ข้อความ { ตัวแปร }\")\n",
        "print(f\"The result is: {factorial_for_loop(input1)}\")"
      ],
      "metadata": {
        "colab": {
          "base_uri": "https://localhost:8080/"
        },
        "id": "iYdVh9q85Ej_",
        "outputId": "6dbd9309-d545-4b62-91f2-748a5c95645b"
      },
      "execution_count": null,
      "outputs": [
        {
          "output_type": "stream",
          "name": "stdout",
          "text": [
            "Enter a number: 5\n",
            "The result is: 120\n"
          ]
        }
      ]
    },
    {
      "cell_type": "code",
      "source": [
        "%timeit factorial_for_loop(500)"
      ],
      "metadata": {
        "colab": {
          "base_uri": "https://localhost:8080/"
        },
        "id": "6dUb4gkR9FQc",
        "outputId": "e23f9b5f-5ad5-49c7-cb83-f5bb85f7844e"
      },
      "execution_count": null,
      "outputs": [
        {
          "output_type": "stream",
          "name": "stdout",
          "text": [
            "74 µs ± 827 ns per loop (mean ± std. dev. of 7 runs, 10000 loops each)\n"
          ]
        }
      ]
    },
    {
      "cell_type": "markdown",
      "source": [
        "### 1.2 Iteration using while loop"
      ],
      "metadata": {
        "id": "mQHqQD_M9rvK"
      }
    },
    {
      "cell_type": "code",
      "source": [
        "#Calualting Factotial using while loop\n",
        "def factorial_while_loop(n):\n",
        "    result = 1\n",
        "    while n > 1:\n",
        "        result = result * n\n",
        "        n -= 1\n",
        "    return result\n",
        "\n",
        "input2 = input(\"Enter a number: \")\n",
        "input2 = int(input2)\n",
        "\n",
        "print(f\"The result is: {factorial_while_loop(input2)}\")"
      ],
      "metadata": {
        "colab": {
          "base_uri": "https://localhost:8080/"
        },
        "id": "uJFqD0z08f_R",
        "outputId": "208ffff9-8061-4967-9820-a51bac61b44d"
      },
      "execution_count": null,
      "outputs": [
        {
          "output_type": "stream",
          "name": "stdout",
          "text": [
            "Enter a number: 5\n",
            "The result is: 120\n"
          ]
        }
      ]
    },
    {
      "cell_type": "code",
      "source": [
        "%timeit factorial_while_loop(500)"
      ],
      "metadata": {
        "colab": {
          "base_uri": "https://localhost:8080/"
        },
        "id": "KdNCckm19yqA",
        "outputId": "56b6c479-71f0-4990-a436-32d0adfb371b"
      },
      "execution_count": null,
      "outputs": [
        {
          "output_type": "stream",
          "name": "stdout",
          "text": [
            "105 µs ± 1.35 µs per loop (mean ± std. dev. of 7 runs, 10000 loops each)\n"
          ]
        }
      ]
    },
    {
      "cell_type": "markdown",
      "source": [
        "### 1.3 Recursion\n",
        "\n",
        "\n",
        "\n",
        "```\n",
        "def rec_func_name():\n",
        "   if(condition)  # base case\n",
        "       simple statement without recursion\n",
        "   else           # recursive case\n",
        "       statement calling rec_func_name()\n",
        "```\n",
        "\n"
      ],
      "metadata": {
        "id": "KbZJin75-IvE"
      }
    },
    {
      "cell_type": "markdown",
      "source": [
        "![alt text](https://techstuffssite.files.wordpress.com/2016/04/top-5-programming-animated-gifs_recursion-animted-gif.gif?w=430&zoom=2)\n",
        "\n",
        "Image: penjee"
      ],
      "metadata": {
        "id": "Nc4IPHNxAwdT"
      }
    },
    {
      "cell_type": "code",
      "source": [
        "#Calualting Factotial using recursion\n",
        "def factorial_recursion(n):\n",
        "    #Base Case ถ้าตรงเงื่อนไขนี้ก็จะจบการ Recursion\n",
        "    if n <= 1:\n",
        "        return 1\n",
        "    #Recursive Case\n",
        "    else:\n",
        "        return n * factorial_recursion(n-1)\n",
        "\n",
        "input3 = input(\"Enter a number: \")\n",
        "input3 = int(input3)\n",
        "\n",
        "print(f\"The result is: {factorial_recursion(input3)}\")"
      ],
      "metadata": {
        "colab": {
          "base_uri": "https://localhost:8080/"
        },
        "id": "lFYnNmNl-XjD",
        "outputId": "96f4d877-94c5-4a6f-8fa6-6de40e153db9"
      },
      "execution_count": null,
      "outputs": [
        {
          "output_type": "stream",
          "name": "stdout",
          "text": [
            "Enter a number: 5\n",
            "The result is: 120\n"
          ]
        }
      ]
    },
    {
      "cell_type": "code",
      "source": [
        "%timeit factorial_recursion(500)"
      ],
      "metadata": {
        "colab": {
          "base_uri": "https://localhost:8080/"
        },
        "id": "-Hdo30rnAD6_",
        "outputId": "599a7617-36e3-4928-e915-9aa8187d81d3"
      },
      "execution_count": null,
      "outputs": [
        {
          "output_type": "stream",
          "name": "stdout",
          "text": [
            "130 µs ± 1.56 µs per loop (mean ± std. dev. of 7 runs, 10000 loops each)\n"
          ]
        }
      ]
    },
    {
      "cell_type": "markdown",
      "source": [
        "## Iteration vs Recursion\n",
        "\n",
        "**Iteration**\n",
        "*   Easy Programming\n",
        "*   Use loop concept (for, while, do while)\n",
        "*   More effective performance\n",
        "\n",
        "**Recursion**\n",
        "*   Hard Programming\n",
        "*   Use if-else concept\n",
        "*   Waste a lot of memory\n",
        "\n",
        "\n",
        "\n",
        "\n"
      ],
      "metadata": {
        "id": "DJf7tRjyQFQG"
      }
    },
    {
      "cell_type": "markdown",
      "metadata": {
        "id": "EXUzFgZ9Dxpu"
      },
      "source": [
        "## Exercise 2: Products Delivery\n",
        "\n",
        "### 2.1 Iterative Products Delivery\n",
        "เขียนโปรแกรมส่งของแบบ Iteration หรือการทำซ้ำ ผู้ส่งจะต้องส่งของด้วยตัวเองทุกครั้ง\n",
        "\n",
        "![alt text](https://files.realpython.com/media/santa_claus_2.ecbf2686f1a1.png)\n",
        "\n",
        "Image: realpython"
      ]
    },
    {
      "cell_type": "code",
      "metadata": {
        "id": "EIXMeg5Q2-nO",
        "colab": {
          "base_uri": "https://localhost:8080/"
        },
        "outputId": "ef27a814-5074-4471-879d-4c8d513d8d1e"
      },
      "source": [
        "#Iterative Products Delivery\n",
        "def deliver_products_iteratively(n):\n",
        "    for i in n:\n",
        "        print(\"Delivering products to\", i)\n",
        "\n",
        "houses = [\"Nadech's House\", \"Yaya's House\", \"Aj.NesT's House\", \"Mario's House\"]\n",
        "#Call Iterative Functions\n",
        "deliver_products_iteratively(houses)"
      ],
      "execution_count": null,
      "outputs": [
        {
          "output_type": "stream",
          "name": "stdout",
          "text": [
            "Delivering products to Nadech's House\n",
            "Delivering products to Yaya's House\n",
            "Delivering products to Aj.NesT's House\n",
            "Delivering products to Mario's House\n"
          ]
        }
      ]
    },
    {
      "cell_type": "markdown",
      "metadata": {
        "id": "yCdWFNa92E0X"
      },
      "source": [
        "### 2.2 Recursive Products Delivery\n",
        "\n",
        "พัฒนา Algorithm ของโปรแกรมโดยแบ่งงานให้คนอื่นมาช่วยส่งของให้แทน \n",
        "\n",
        "**การแบ่งปัญหาใหญ่ให้เป็นปัญหาย่อย จะนิยมใช้ Recursive Algorithms** \n",
        "\n",
        "1) แต่งตั้งพนักงงานส่งของและมอบงานทั้งหมดให้ \n",
        "\n",
        "2) กำหนดชื่อและความรับผิดชอบให้กับพนักงงานส่งของตามจำนวนบ้านที่พวกเขารับผิดชอบ\n",
        "\n",
        "**โดยสร้างเงื่อนไข**\n",
        "\n",
        "ถ้ามากกว่า 1 หลัง จะมีผู้จัดการ (Manager) ค่อยแต่งตั้งและแบ่งงานให้พนักงานช่วยกันส่งของ  \n",
        "\n",
        "ถ้าเท่ากับ 1 หลัง พนักงาน (Worker) ส่งของจะทำการส่งของให้กับบ้านที่ได้รับมอบหมายเอง\n",
        "\n",
        "### The Structure of a Recursive Algorithm\n",
        "\n",
        "Divide it into subproblems and apply the same strategy\n",
        "\n",
        "![alt text](https://files.realpython.com/media/elves_7.8d1af1cd85c8.png)\n",
        "\n",
        "Image: realpython\n",
        "\n",
        "### All Recursive Functions share a common structure made up of 2 parts:\n",
        "\n",
        "**1) Base Case**\n",
        "\n",
        "**2) Recursive Case**"
      ]
    },
    {
      "cell_type": "code",
      "metadata": {
        "id": "nyoMn6fc3Jsi",
        "colab": {
          "base_uri": "https://localhost:8080/"
        },
        "outputId": "630073d1-e317-4f03-e7a3-05f7bfc48b21"
      },
      "source": [
        "#Recursive Products Delivery\n",
        "def deliver_products_recursively(houses):\n",
        "    #Worker doing his work --> Base Case == 1\n",
        "    if len(houses) == 1:\n",
        "        house = houses[0]\n",
        "        print(\"Delivering products to\", house)\n",
        "    #Manager doing his work --> Recursive Case\n",
        "    else:\n",
        "        mid = len(houses) // 2\n",
        "        first_half = houses[:mid]\n",
        "        second_half = houses[mid:]\n",
        "        #Divides his work among two workers\n",
        "        deliver_products_recursively(first_half)\n",
        "        deliver_products_recursively(second_half)\n",
        "\n",
        "houses = [\"Nadech's House\", \"Yaya's House\", \"Aj.NesT's House\", \"Mario's House\"]\n",
        "#Call Recursive Functions\n",
        "deliver_products_recursively(houses)"
      ],
      "execution_count": null,
      "outputs": [
        {
          "output_type": "stream",
          "name": "stdout",
          "text": [
            "Delivering products to Nadech's House\n",
            "Delivering products to Yaya's House\n",
            "Delivering products to Aj.NesT's House\n",
            "Delivering products to Mario's House\n"
          ]
        }
      ]
    },
    {
      "cell_type": "markdown",
      "source": [
        "![alt text](https://miro.medium.com/max/875/1*dXFC8vq6xJ8Ud1Zeu24eUQ.png)\n",
        "\n",
        "Image: freecodecamp\n",
        "\n",
        "**Recursion in the stack**\n",
        "\n",
        "![alt text](https://miro.medium.com/max/826/1*KcVIy-BMNuJ7H6wh4yS8kw.png)\n",
        "\n",
        "Image: freecodecamp"
      ],
      "metadata": {
        "id": "a8IwbjMeNt4A"
      }
    },
    {
      "cell_type": "markdown",
      "metadata": {
        "id": "D4XxLFdMHGRu"
      },
      "source": [
        "## Exercise 3: Maintaining State --> Sum Recursive\n",
        "\n",
        "เขียนโปรแกรมการคำนวณ Sum ค่าตัวเองไปเรื่อย ๆ\n",
        "\n",
        "เช่น \n",
        "\n",
        "1 + 2 + 3 + 4 + 5 + 6 + 7 + 8 + 9 + 10 = 55\n",
        "\n",
        "1 + 2 + 3 + 4 + 5 + 6 + 7 + 8 + 9 + 10 + 11 + 12 = 78\n",
        "\n",
        "S1(ตัวเลขปัจจุบัน, ตัวเลขสะสม)\n",
        "\n",
        "![alt text](https://files.realpython.com/media/state_3.3e8a68c4fde5.png)\n",
        "\n",
        "Image: realpython.com"
      ]
    },
    {
      "cell_type": "code",
      "metadata": {
        "id": "JRi1EzZz3Xoi",
        "colab": {
          "base_uri": "https://localhost:8080/"
        },
        "outputId": "4973531a-8ac6-4100-ab1b-f224a9baf125"
      },
      "source": [
        "#Recursive Assign Arguments\n",
        "def sum_recursive(current_number, accumulated_sum):\n",
        "    #Base Case\n",
        "    #Return the Final State\n",
        "    if current_number == 11:    #ต้องการบวกเลข 1 ถึง 10 => 1 + 2 + 3 + 4 + 5 + 6 + 7 + 8 + 9 + 10 = 55\n",
        "        return accumulated_sum #คือค่าสะสมที่ได้\n",
        "    #Recursive Case\n",
        "    #Thread the state through the Recursive Call\n",
        "    else:\n",
        "        return sum_recursive(current_number + 1, accumulated_sum + current_number)\n",
        "#Call Sum Recursive Function\n",
        "#1 + 2 + 3 + 4 + 5 + 6 + 7 + 8 + 9 + 10 ไปหยุดที่ 11 จบการทำงาน ผลลัพธ์ได้ 55\n",
        "sum_recursive(1,0) #(ค่าตัวเลขที่เริ่มต้น, ค่าสะสมที่เริ่มต้น)"
      ],
      "execution_count": null,
      "outputs": [
        {
          "output_type": "execute_result",
          "data": {
            "text/plain": [
              "55"
            ]
          },
          "metadata": {},
          "execution_count": 22
        }
      ]
    },
    {
      "cell_type": "code",
      "metadata": {
        "id": "RqNypJtU3dOI",
        "colab": {
          "base_uri": "https://localhost:8080/"
        },
        "outputId": "561824f6-b6df-4a45-a9df-385d27531352"
      },
      "source": [
        "#Recursive Global Mutable State\n",
        "current_number = 1 \n",
        "accumulated_sum = 0\n",
        "\n",
        "def sum_recursive():\n",
        "    global current_number\n",
        "    global accumulated_sum\n",
        "    #Base Case\n",
        "    if current_number == 11:\n",
        "        return accumulated_sum\n",
        "    #Recursive Case\n",
        "    else:\n",
        "        accumulated_sum = accumulated_sum + current_number\n",
        "        current_number = current_number + 1\n",
        "        return sum_recursive()\n",
        "#Call Sum Recursive Function\n",
        "sum_recursive()"
      ],
      "execution_count": null,
      "outputs": [
        {
          "output_type": "execute_result",
          "data": {
            "text/plain": [
              "55"
            ]
          },
          "metadata": {},
          "execution_count": 26
        }
      ]
    },
    {
      "cell_type": "code",
      "metadata": {
        "id": "rtTJcRPP3ouJ",
        "colab": {
          "base_uri": "https://localhost:8080/"
        },
        "outputId": "d9c8f533-9cbd-4101-e88d-3b2cb88be85d"
      },
      "source": [
        "#Recursive A List is an example of a Recursive Data Structure\n",
        "def list_sum_recursive(input_list):\n",
        "    #Base Case\n",
        "    if input_list == []:\n",
        "        return 0\n",
        "    #Recursive Case\n",
        "    else:\n",
        "        head = input_list[0]\n",
        "        smaller_list = input_list[1:]\n",
        "        return head + list_sum_recursive(smaller_list)\n",
        "#Call List Sum Recursive Function\n",
        "list_sum_recursive([1, 2, 6, 14, 25, 36, 87, 98, 129, 310])"
      ],
      "execution_count": null,
      "outputs": [
        {
          "output_type": "execute_result",
          "data": {
            "text/plain": [
              "708"
            ]
          },
          "metadata": {},
          "execution_count": 138
        }
      ]
    },
    {
      "cell_type": "markdown",
      "source": [
        "## Exercise 4: How many are in line?"
      ],
      "metadata": {
        "id": "Z0etGbWch8pP"
      }
    },
    {
      "cell_type": "markdown",
      "metadata": {
        "id": "Vh5Zc7ANUjxw"
      },
      "source": [
        "![alt text](https://blog.penjee.com/wp-content/uploads/2016/05/recursion-with-code-and-animation_minimized.gif)"
      ]
    },
    {
      "cell_type": "code",
      "metadata": {
        "id": "vrXKmMYE4BF3",
        "colab": {
          "base_uri": "https://localhost:8080/"
        },
        "outputId": "0304316e-0dcf-4fe6-98ed-327294584ee1"
      },
      "source": [
        "#Recursive How many are in line?\n",
        "Line = [1, 2, 3, 4, 5, 6, 7, 8, 9]\n",
        "def howmanyin(lst):\n",
        "    if lst[1:]:\n",
        "        print(\"me and the guys behind\")\n",
        "        return 1 + howmanyin(lst[1:])\n",
        "    else:\n",
        "        print(\"just me\")\n",
        "        return 1\n",
        "#Call Recursive Function\n",
        "howmanyin(Line)"
      ],
      "execution_count": null,
      "outputs": [
        {
          "output_type": "stream",
          "name": "stdout",
          "text": [
            "me and the guys behind\n",
            "me and the guys behind\n",
            "me and the guys behind\n",
            "me and the guys behind\n",
            "me and the guys behind\n",
            "me and the guys behind\n",
            "me and the guys behind\n",
            "me and the guys behind\n",
            "just me\n"
          ]
        },
        {
          "output_type": "execute_result",
          "data": {
            "text/plain": [
              "9"
            ]
          },
          "metadata": {},
          "execution_count": 31
        }
      ]
    },
    {
      "cell_type": "markdown",
      "metadata": {
        "id": "PwpWY8ihS-qo"
      },
      "source": [
        "## Exercise 5: Fibonacci\n",
        "\n",
        "Fibonacci Numbers นำตัวเลขสองตัวมาบวกกัน --> 1, 1, 2, 3, 5, 8, 13, 21, 34, 55, 89, 144, 233, ...\n",
        "\n",
        "144/233 = 0.618, 89/233 = 0.382, 55/233 = 0.236, ...\n",
        "\n",
        "**0.236, 0.382, 0.618, 1, 1.618, 2.618, ...**\n",
        "\n",
        "คือสัดส่วนที่พบในธรรมชาติ เช่น นำมาประยุกต์ใช้ในการเทรดหุ้นสร้างเส้นแนวรับและแนวต้าน หรือออกแบบงานศิลปะ Golden Ratio 1.618\n",
        "\n",
        "เขียนโปรแกรมโดยใช้ Input แบบ List มาประยุกต์ใช้ในโครงสร้างแบบ Recursion\n",
        "\n",
        "![alt text](https://www.mathwarehouse.com/programming/images/fibonacci-recursion-demonstration-animation-python.gif)\n",
        "\n",
        "Image: penjee"
      ]
    },
    {
      "cell_type": "code",
      "metadata": {
        "id": "_1OEk3oy4F_g",
        "colab": {
          "base_uri": "https://localhost:8080/"
        },
        "outputId": "e39b1209-27c2-4f13-a5c4-fb8d72219d0d"
      },
      "source": [
        "# Function for nth Fibonacci number\n",
        "def Fibonacci(n):\n",
        "    # Check if input is 0 then it will\n",
        "    # print incorrect input\n",
        "    if n < 0:\n",
        "        print(\"Incorrect input\")\n",
        " \n",
        "    # Check if n is 0\n",
        "    # then it will return 0\n",
        "    elif n == 0:\n",
        "        return 0\n",
        " \n",
        "    # Check if n is 1,2\n",
        "    # it will return 1\n",
        "    elif n == 1 or n == 2:\n",
        "        return 1\n",
        "    else:\n",
        "        return Fibonacci(n-1) + Fibonacci(n-2)\n",
        " \n",
        "print(Fibonacci(7))"
      ],
      "execution_count": null,
      "outputs": [
        {
          "output_type": "stream",
          "name": "stdout",
          "text": [
            "13\n"
          ]
        }
      ]
    },
    {
      "cell_type": "markdown",
      "source": [
        "## Exercise 6: Tower of Hanoi\n",
        "\n",
        "เป้าหมายของเกมคือ พยายามย้ายกองจานทั้งหมดจากหมุด A ไปไว้ที่หมุด C โดยการเคลื่อนย้ายจานจะต้องเป็นไปตามกฎดังนี้คือ\n",
        "*   สามารถย้ายจานได้เพียงครั้งละ 1 ใบ\n",
        "*   ไม่สามารถวางจาน ไว้บนจานที่มีขนาดเล็กกว่าได้\n",
        "\n",
        "![alt text](https://1.bp.blogspot.com/-MqzPtTRUHuY/XVbjcnNh1GI/AAAAAAAAIQM/gMf62j3Cpk8L0xEJvq0Qk67GzamuZCnwwCEwYBhgL/s1600/Webp.net-gifmaker.gif)\n",
        "\n",
        "Image: codeamy\n",
        "\n",
        "![alt text](https://craftofcoding.files.wordpress.com/2020/06/towershanoialg.jpg)\n",
        "\n",
        "Image: craftofcoding"
      ],
      "metadata": {
        "id": "QFJAvRBzkgqD"
      }
    },
    {
      "cell_type": "code",
      "source": [
        "#Recursive Tower of Hanoi\n",
        "def TowerOfHanoi(n , from_rod, to_rod, aux_rod):\n",
        "    if n == 1:\n",
        "        print(\"Move disk 1 from rod\",from_rod,\"to rod\",to_rod)\n",
        "        return\n",
        "    TowerOfHanoi(n-1, from_rod, aux_rod, to_rod)\n",
        "    print(\"Move disk\",n,\"from rod\",from_rod,\"to rod\",to_rod)\n",
        "    TowerOfHanoi(n-1, aux_rod, to_rod, from_rod)\n",
        "         \n",
        "n = int(input(\"Enter the number of disks: \"))\n",
        "TowerOfHanoi(n, 'A', 'C', 'B')"
      ],
      "metadata": {
        "colab": {
          "base_uri": "https://localhost:8080/"
        },
        "id": "wlB1eSy5l-4L",
        "outputId": "da13f84f-99c5-47ef-a8b4-c972e93498b4"
      },
      "execution_count": null,
      "outputs": [
        {
          "output_type": "stream",
          "name": "stdout",
          "text": [
            "Enter the number of disks: 3\n",
            "Move disk 1 from rod A to rod C\n",
            "Move disk 2 from rod A to rod B\n",
            "Move disk 1 from rod C to rod B\n",
            "Move disk 3 from rod A to rod C\n",
            "Move disk 1 from rod B to rod A\n",
            "Move disk 2 from rod B to rod C\n",
            "Move disk 1 from rod A to rod C\n"
          ]
        }
      ]
    },
    {
      "cell_type": "markdown",
      "source": [
        "## Assignments\n",
        "\n",
        "###1. Show step-by-step to find the returned values of the algorithm quiz1.\n",
        "\n",
        "```\n",
        "algorithm quiz1 (x)\n",
        "    If (x<6)\n",
        "          return 4*x\n",
        "    else\n",
        "          return (3 * quiz1(x-6)+2)\n",
        "    end if\n",
        "end quiz1\n",
        "```\n",
        "\n",
        "when the quiz1 is called as\n",
        "\n",
        "1.1 quiz1(5)\n",
        "\n",
        "1.2 quiz1(10)\n",
        "\n",
        "1.3 quiz1(16)\n",
        "\n",
        "###2. Show step-by-step to find the returned values of the algorithm quiz2.\n",
        "\n",
        "```\n",
        "algorithm quiz2 (x,y)\n",
        "    If (x<y)\n",
        "          return -5\n",
        "    else\n",
        "          return (quiz2((x-y),y+2)+y)\n",
        "    end if\n",
        "end quiz2\n",
        "```\n",
        "\n",
        "when the quiz2 is called as\n",
        "\n",
        "2.1 quiz2(2,8)\n",
        "\n",
        "2.2 quiz2(8,2)\n",
        "\n",
        "2.3 quiz2(25,12)\n",
        "\n",
        "###3. The combination of n objects taken by k at a time can be determined according to the recursive algorithm below. \n",
        "\n",
        "![Screen Shot 2565-08-23 at 00.59.24.png](data:image/png;base64,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)\n",
        "\n",
        "\n",
        "Please write a recusive code for the calculation of this combination"
      ],
      "metadata": {
        "id": "xpRFb-werAD7"
      }
    }
  ]
}