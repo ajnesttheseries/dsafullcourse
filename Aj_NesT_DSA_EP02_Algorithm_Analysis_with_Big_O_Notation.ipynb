{
  "nbformat": 4,
  "nbformat_minor": 0,
  "metadata": {
    "colab": {
      "provenance": [],
      "collapsed_sections": []
    },
    "kernelspec": {
      "name": "python3",
      "display_name": "Python 3"
    },
    "language_info": {
      "name": "python"
    }
  },
  "cells": [
    {
      "cell_type": "markdown",
      "source": [
        "# Data Structures and Algorithms\n",
        "\n",
        "**Todsapon Banklongsi (Aj. NesT the Series)**\n",
        "\n",
        "**ผู้เรียนสามารถบันทึกไฟล์เป็นของตัวเองเพื่อใช้เขียนโปรแกรมบน Google Colab ได้** \n",
        "\n",
        "**โดยไปที่ File --> Save a Copy in Drive**"
      ],
      "metadata": {
        "id": "xf_Xd5s51pNC"
      }
    },
    {
      "cell_type": "markdown",
      "source": [
        "#Algorithm Analysis with Big O Notation\n",
        "\n",
        "![alt text](https://www.datasciencecentral.com/wp-content/uploads/2021/10/9214497653.jpeg)\n",
        "\n",
        "##Why is Algorithm Analysis Important?\n",
        "\n",
        "**สมมติว่า Manager มอบหมายงานให้ Programmer 2 คน ออกแบบ Algorithms ใน Python ที่คำนวณหาค่า Factorial ของตัวเลขที่ผู้ใช้ป้อน**\n",
        "\n",
        "คนที่ 1 พัฒนา Algorithm ใช้ for และสมการหา Factorial ดังนี้"
      ],
      "metadata": {
        "id": "TKVhWj0Pzpie"
      }
    },
    {
      "cell_type": "code",
      "source": [
        "def fact(n):\n",
        "    product = 1\n",
        "    for i in range(n):\n",
        "        #print(str(product)+\" * (\"+str(i)+\"+\"+\"1)\")\n",
        "        product = product * (i+1)\n",
        "        #print(\"product = \"+str(product))\n",
        "    return product\n",
        "\n",
        "print(fact(5))"
      ],
      "metadata": {
        "colab": {
          "base_uri": "https://localhost:8080/"
        },
        "id": "wJeiIZ1SMj6T",
        "outputId": "3e82780d-689a-4a70-f53d-e0d0cb55e1b8"
      },
      "execution_count": null,
      "outputs": [
        {
          "output_type": "stream",
          "name": "stdout",
          "text": [
            "120\n"
          ]
        }
      ]
    },
    {
      "cell_type": "code",
      "source": [
        "%timeit fact(5)"
      ],
      "metadata": {
        "colab": {
          "base_uri": "https://localhost:8080/"
        },
        "id": "PBLkAZEQ-7E5",
        "outputId": "d2ad0d53-29e5-4e19-e454-aeb1e126a797"
      },
      "execution_count": null,
      "outputs": [
        {
          "output_type": "stream",
          "name": "stdout",
          "text": [
            "The slowest run took 10.01 times longer than the fastest. This could mean that an intermediate result is being cached.\n",
            "1000000 loops, best of 5: 621 ns per loop\n"
          ]
        }
      ]
    },
    {
      "cell_type": "markdown",
      "source": [
        "คนที่ 2 พัฒนา Algorithm ใช้ Recursive Function และสมการหา Factorial ดังนี้"
      ],
      "metadata": {
        "id": "ziELAiBS5r-R"
      }
    },
    {
      "cell_type": "code",
      "source": [
        "def fact2(n):\n",
        "    if n == 0:\n",
        "        #print(n)\n",
        "        return 1\n",
        "    else:\n",
        "        #print(n)\n",
        "        return n * fact2(n-1)\n",
        "\n",
        "print(fact2(5))"
      ],
      "metadata": {
        "colab": {
          "base_uri": "https://localhost:8080/"
        },
        "id": "ePI45K5UMnTu",
        "outputId": "7398e626-0f09-49a6-fc37-3fc66dfdd990"
      },
      "execution_count": null,
      "outputs": [
        {
          "output_type": "stream",
          "name": "stdout",
          "text": [
            "120\n"
          ]
        }
      ]
    },
    {
      "cell_type": "code",
      "source": [
        "%timeit fact2(5)"
      ],
      "metadata": {
        "colab": {
          "base_uri": "https://localhost:8080/"
        },
        "id": "vcOaARH2_I44",
        "outputId": "9d2845ce-2043-4ac9-e4cf-e18fe94185b5"
      },
      "execution_count": null,
      "outputs": [
        {
          "output_type": "stream",
          "name": "stdout",
          "text": [
            "The slowest run took 5.39 times longer than the fastest. This could mean that an intermediate result is being cached.\n",
            "1000000 loops, best of 5: 792 ns per loop\n"
          ]
        }
      ]
    },
    {
      "cell_type": "markdown",
      "source": [
        "\n",
        "\n",
        "##What's Big O Notation?\n",
        "\n",
        "**Big O Notation** คือ ระยะเวลาที่แย่ที่สุด (วิเคราะห์เวลาที่ใช้ในการประมวลผล Time Complexity) หรือ ใช้พื้นที่ในการประมวลผลมากที่สุด (วิเคราะห์หน่วยความจำที่ใช้ในการประมวลผล Space Complexity) ซึ่งเป็น Worst Case ที่ Computer ต้องประมวลผลไปกับการแก้ปัญหาที่ต้องใช้ไปกับการรัน Algorithms จะเรียกว่า Algorithm Complexity หรือ ความซับซ้อนของอัลกอริทึม \n",
        "\n",
        "**Example:** มี Array ที่เก็บชื่อคนที่ไม่ซ้ำกันอยู่ทั้งหมด 1,000,000 คน มีชื่อเราอยู่ด้วย สมมุติว่าเราต้องการค้นหาชื่อตัวเอง เราก็ต้องวน Loop ไปค้นหาทีละตำแหน่ง ถ้าเราโชคดี (Best Case) หน่อย ชื่อเราอยู่ตำแหน่งแรก ก็จะใช้เวลาในการวนลูปแค่ 1 รอบ แต่ถ้าโชคร้าย (Worst Case) ไปอยู่ตำแหน่งสุดท้าย ก็จะใช้เวลาวนลูปถึง 1,000,000 รอบ กว่าจะเจอสิ่งที่ต้องการ ซึ่งเคสโชคร้าย (Worst Case) นี่แหละที่สนใจ จะเรียกมันว่า Big O Notation\n",
        "\n",
        "##Big O Notation Types\n",
        "\n",
        "**ทดสอบโดยยิ่งมีขนาด Size มากขึ้นระยะเวลาในการประมวลผลของแต่ละชนิด Big O Notation จะเป็นอย่างไรบ้าง**\n",
        "\n",
        "![alt text](https://miro.medium.com/max/618/1*-dFpURcG9Qzv0ZzJ0U8oCQ.png)\n",
        "\n",
        "**Big O Visualized**\n",
        "\n",
        "![alt text](https://miro.medium.com/max/650/1*6mpaXFsrRPFXSKXK5Qgm8w.png)\n",
        "\n",
        "###เรียงเทอมจากเล็กไปใหญ่\n",
        "1 > log n > n > n log n > n^2 > n^k > 2^n > c^n > n!\n",
        "\n",
        "###Big O เรียงจากประสิทธิภาพสูงสุดไปต่ำสุด\n",
        "O(1) > O(log n) > O(n) > O(n log n) > O(n^2) > O(n^k) > O(2^n) > O(c^n) > O(n!)\n"
      ],
      "metadata": {
        "id": "FgLAxGvIMSn6"
      }
    },
    {
      "cell_type": "markdown",
      "source": [
        "##O(1) - Constant Complexity\n",
        "เป็น Excellent Algorithm ที่ดีที่สุด ไม่ว่า input จะมีขนาด 1, 1000, 1M+ หรือเท่าไหร่ก็ตาม ระยะเวลาที่ใช้ในการประมวลผลก็ยังไม่เปลี่ยนแปลง คือ เท่ากับ 1 เสมอ ตัวอย่างเช่น"
      ],
      "metadata": {
        "id": "qB_GxEdsPywS"
      }
    },
    {
      "cell_type": "code",
      "source": [
        "#Printing the first element from a list => O(1)\n",
        "def get_first(data):\n",
        "    return data[0]\n",
        "    \n",
        "data = [3, 2, 9, 8, 1, 4, 7, 6, 5]\n",
        "print(get_first(data))"
      ],
      "metadata": {
        "colab": {
          "base_uri": "https://localhost:8080/"
        },
        "id": "iz77tuSTP6hg",
        "outputId": "5d0b6cee-3515-433f-f71c-7ff16e7dccf3"
      },
      "execution_count": null,
      "outputs": [
        {
          "output_type": "stream",
          "name": "stdout",
          "text": [
            "3\n"
          ]
        }
      ]
    },
    {
      "cell_type": "code",
      "source": [
        "#Finds the square of the second item in the list => O(1)\n",
        "def constant_algo(items):\n",
        "    result = items[3] * items[3]\n",
        "    return result\n",
        "\n",
        "data = [2, 4, 6, 8, 28]\n",
        "print(constant_algo(data))"
      ],
      "metadata": {
        "colab": {
          "base_uri": "https://localhost:8080/"
        },
        "id": "gcZ_au8HMxcD",
        "outputId": "a2745cb1-ed3b-43df-b42a-71103fe2e997"
      },
      "execution_count": null,
      "outputs": [
        {
          "output_type": "stream",
          "name": "stdout",
          "text": [
            "64\n"
          ]
        }
      ]
    },
    {
      "cell_type": "code",
      "source": [
        "#Checking if a number is even or odd => O(1)\n",
        "def even_or_odd(num):\n",
        "    if(num % 2 == 0):\n",
        "      return \"Even\"\n",
        "    else:\n",
        "      return \"Odd\"\n",
        "\n",
        "print(even_or_odd(8))\n",
        "print(even_or_odd(9))"
      ],
      "metadata": {
        "colab": {
          "base_uri": "https://localhost:8080/"
        },
        "id": "bz7uGHD6Nric",
        "outputId": "c33f1192-efef-4c3c-f7fe-dcec2b4ac360"
      },
      "execution_count": null,
      "outputs": [
        {
          "output_type": "stream",
          "name": "stdout",
          "text": [
            "Even\n",
            "Odd\n"
          ]
        }
      ]
    },
    {
      "cell_type": "markdown",
      "source": [
        "##O(log n) - Logarithmic Complexity\n",
        "เป็น Good Algorithm ที่ดี โดยเป็นการทำงานที่จะลดจำนวน Loop ลงครึ่งนึงทุกครั้งที่ทำเสร็จไป 1 รอบ"
      ],
      "metadata": {
        "id": "DPzfEnTuQGLh"
      }
    },
    {
      "cell_type": "code",
      "source": [
        "#Binary Search Algorithm => O(log n)\n",
        "def binary_search(data, value):\n",
        "    n = len(data)\n",
        "    left = 0\n",
        "    right = n - 1\n",
        "    while left <= right:\n",
        "        middle = (left + right) // 2\n",
        "        if value < data[middle]:\n",
        "            right = middle - 1\n",
        "        elif value > data[middle]:\n",
        "            left = middle + 1\n",
        "        else:\n",
        "            return middle\n",
        "    \n",
        "data = [1, 3, 5, 7, 11, 13, 17, 19, 23, 29, 31, 37, 41, 43, 47, 53, 59]\n",
        "print(binary_search(data, 37))"
      ],
      "metadata": {
        "colab": {
          "base_uri": "https://localhost:8080/"
        },
        "id": "LiwwzGPTQKyY",
        "outputId": "065433f2-63d3-4108-eda0-6c202d0f6fe4"
      },
      "execution_count": null,
      "outputs": [
        {
          "output_type": "stream",
          "name": "stdout",
          "text": [
            "11\n"
          ]
        }
      ]
    },
    {
      "cell_type": "code",
      "source": [
        "%timeit binary_search(data, 37)"
      ],
      "metadata": {
        "colab": {
          "base_uri": "https://localhost:8080/"
        },
        "id": "cJyHuqPWZ1sE",
        "outputId": "2d4f5926-27dc-41be-db04-da5bc61d99e6"
      },
      "execution_count": null,
      "outputs": [
        {
          "output_type": "stream",
          "name": "stdout",
          "text": [
            "The slowest run took 4.10 times longer than the fastest. This could mean that an intermediate result is being cached.\n",
            "1000000 loops, best of 5: 987 ns per loop\n"
          ]
        }
      ]
    },
    {
      "cell_type": "markdown",
      "source": [
        "Binary Search Algorithm vs Linear Search\n",
        "\n",
        "![alt text](https://blog.penjee.com/wp-content/uploads/2015/04/binary-and-linear-search-animations.gif)"
      ],
      "metadata": {
        "id": "-il-_sKKU15Q"
      }
    },
    {
      "cell_type": "markdown",
      "source": [
        "##O(n) - Linear Complexity\n",
        "เป็น Fair Algorithm ที่ใช้ทำงานได้ โดยจะใช้เวลาในการทำงานเท่ากับ input"
      ],
      "metadata": {
        "id": "KD9E8u5DWWep"
      }
    },
    {
      "cell_type": "code",
      "source": [
        "#Linear Search Algorithm => O(n)\n",
        "def linear_search(data, value):\n",
        "    for index in range(len(data)):\n",
        "        if value == data[index]:\n",
        "            return index\n",
        "    \n",
        "data = [1, 3, 5, 7, 11, 13, 17, 19, 23, 29, 31, 37, 41, 43, 47, 53, 59]\n",
        "print(linear_search(data, 37))"
      ],
      "metadata": {
        "colab": {
          "base_uri": "https://localhost:8080/"
        },
        "id": "PLfm6xgiQazs",
        "outputId": "82ee3230-ffca-485f-b4c1-73c5961707dc"
      },
      "execution_count": null,
      "outputs": [
        {
          "output_type": "stream",
          "name": "stdout",
          "text": [
            "11\n"
          ]
        }
      ]
    },
    {
      "cell_type": "code",
      "source": [
        "%timeit linear_search(data, 37)"
      ],
      "metadata": {
        "colab": {
          "base_uri": "https://localhost:8080/"
        },
        "id": "hdeC55byjRTK",
        "outputId": "91a4a5de-9892-4c67-df2d-ee60a55c3041"
      },
      "execution_count": null,
      "outputs": [
        {
          "output_type": "stream",
          "name": "stdout",
          "text": [
            "The slowest run took 5.25 times longer than the fastest. This could mean that an intermediate result is being cached.\n",
            "1000000 loops, best of 5: 1.08 µs per loop\n"
          ]
        }
      ]
    },
    {
      "cell_type": "code",
      "source": [
        "#Linear Algorithm => O(n)\n",
        "def linear_algo(items):\n",
        "    for item in items:\n",
        "        print(item)\n",
        "\n",
        "    for item in items:\n",
        "        print(item)\n",
        "\n",
        "linear_algo([3, 6, 8, 12, 23, 38])"
      ],
      "metadata": {
        "colab": {
          "base_uri": "https://localhost:8080/"
        },
        "id": "NcMIorICQXvt",
        "outputId": "a998bf80-de8c-415f-ba4f-abe18829e9a8"
      },
      "execution_count": null,
      "outputs": [
        {
          "output_type": "stream",
          "name": "stdout",
          "text": [
            "3\n",
            "6\n",
            "8\n",
            "12\n",
            "23\n",
            "38\n",
            "3\n",
            "6\n",
            "8\n",
            "12\n",
            "23\n",
            "38\n"
          ]
        }
      ]
    },
    {
      "cell_type": "markdown",
      "source": [
        "##O(n log n) - Linearithmic Complexity\n",
        "เป็น Bad Algorithm ความเร็วปานกลาง คือการทำงาน Loop แบบ n รอบ ที่มี Loop แบบ log n รอบอยู่ข้างใน"
      ],
      "metadata": {
        "id": "B4RNNcd5d4jV"
      }
    },
    {
      "cell_type": "code",
      "source": [
        "#Merge Sort Algorithm => O(n log n)\n",
        "def mergeSort(myList):\n",
        "    if len(myList) > 1:\n",
        "        mid = len(myList) // 2\n",
        "        left = myList[:mid]\n",
        "        right = myList[mid:]\n",
        "\n",
        "        # Recursive call on each half\n",
        "        mergeSort(left)\n",
        "        mergeSort(right)\n",
        "\n",
        "        # Two iterators for traversing the two halves\n",
        "        i = 0\n",
        "        j = 0\n",
        "        \n",
        "        # Iterator for the main list\n",
        "        k = 0\n",
        "        \n",
        "        while i < len(left) and j < len(right):\n",
        "            if left[i] <= right[j]:\n",
        "              # The value from the left half has been used\n",
        "              myList[k] = left[i]\n",
        "              # Move the iterator forward\n",
        "              i += 1\n",
        "            else:\n",
        "                myList[k] = right[j]\n",
        "                j += 1\n",
        "            # Move to the next slot\n",
        "            k += 1\n",
        "\n",
        "        # For all the remaining values\n",
        "        while i < len(left):\n",
        "            myList[k] = left[i]\n",
        "            i += 1\n",
        "            k += 1\n",
        "\n",
        "        while j < len(right):\n",
        "            myList[k]=right[j]\n",
        "            j += 1\n",
        "            k += 1\n",
        "\n",
        "myList = [54,26,93,17,77,31,44,55,20]\n",
        "print(\"Before Sort: \"+ str(myList))\n",
        "mergeSort(myList)\n",
        "print(\"After Sort: \"+ str(myList))"
      ],
      "metadata": {
        "colab": {
          "base_uri": "https://localhost:8080/"
        },
        "id": "JR82lrzBfxKN",
        "outputId": "e6735147-6eeb-4489-f15f-5071f3cbb047"
      },
      "execution_count": null,
      "outputs": [
        {
          "output_type": "stream",
          "name": "stdout",
          "text": [
            "Before Sort: [54, 26, 93, 17, 77, 31, 44, 55, 20]\n",
            "After Sort: [17, 20, 26, 31, 44, 54, 55, 77, 93]\n"
          ]
        }
      ]
    },
    {
      "cell_type": "markdown",
      "source": [
        "##O(n^2) - Quadratic Complexity\n",
        "เป็น Horrible Algorithm ความเร็วช้า เมื่อเพิ่มขนาด input เข้ามาสองเท่า จะทำให้ระยะเวลาเพิ่มขึ้น สี่เท่า เลยทีเดียว ตัวอย่างง่าย ๆ คือ 2-Nested Loop\n",
        "\n"
      ],
      "metadata": {
        "id": "F_lPCxvmQgZu"
      }
    },
    {
      "cell_type": "code",
      "source": [
        "#Quadratic Algorithm => O(n^2)\n",
        "def quadratic_algo(items):\n",
        "    for item in items:\n",
        "        for item2 in items:\n",
        "            print(item, ' ' ,item)\n",
        "\n",
        "quadratic_algo([3, 6, 8, 23])"
      ],
      "metadata": {
        "colab": {
          "base_uri": "https://localhost:8080/"
        },
        "id": "Q9g7AI5qQizY",
        "outputId": "4a8ab1bd-e4e5-4890-9fac-3f96baa5f29d"
      },
      "execution_count": null,
      "outputs": [
        {
          "output_type": "stream",
          "name": "stdout",
          "text": [
            "3   3\n",
            "3   3\n",
            "3   3\n",
            "3   3\n",
            "6   6\n",
            "6   6\n",
            "6   6\n",
            "6   6\n",
            "8   8\n",
            "8   8\n",
            "8   8\n",
            "8   8\n",
            "23   23\n",
            "23   23\n",
            "23   23\n",
            "23   23\n"
          ]
        }
      ]
    },
    {
      "cell_type": "code",
      "source": [
        "#Duplicate Check Algorithm => O(n^2) \n",
        "def duplicateCheck(arr):\n",
        " for i in range(len(arr)):\n",
        "   a = arr[i]\n",
        "   for j in range(i+1, len(arr)):\n",
        "     b = arr[j]\n",
        "     print(a, b)\n",
        "     if(a == b):\n",
        "       return \"duplicated\"\n",
        " return \"not duplicate\"\n",
        " \n",
        "numArray = [2,3,6,8,8]\n",
        " \n",
        "result = duplicateCheck(numArray)\n",
        "print(result)"
      ],
      "metadata": {
        "colab": {
          "base_uri": "https://localhost:8080/"
        },
        "id": "SdnHwUdQlJuH",
        "outputId": "0296d3ea-f6ac-497f-de73-045953b39d24"
      },
      "execution_count": null,
      "outputs": [
        {
          "output_type": "stream",
          "name": "stdout",
          "text": [
            "2 3\n",
            "2 6\n",
            "2 8\n",
            "2 8\n",
            "3 6\n",
            "3 8\n",
            "3 8\n",
            "6 8\n",
            "6 8\n",
            "8 8\n",
            "duplicated\n"
          ]
        }
      ]
    },
    {
      "cell_type": "markdown",
      "source": [
        "##O(2^n) - Exponential Complexity\n",
        "เป็น Horrible Algorithm ความเร็วช้ามาก ข้อมูลเพียงแค่นิดเดียวก็มีการทำงานที่มหาศาล ตัวอย่างเช่น the travelling salesman problem (using dynamic programming) หรือ recursive บางแบบ \n"
      ],
      "metadata": {
        "id": "WttNVmaMmj-1"
      }
    },
    {
      "cell_type": "code",
      "source": [
        "def fibonacci(n):\n",
        "    if n==1:\n",
        "        return 0\n",
        "    elif n==2:\n",
        "        return 1\n",
        "    else:\n",
        "        return (fibonacci(n-1)+fibonacci(n-2))  \n",
        "print(fibonacci(8))\n",
        "print(fibonacci(26))"
      ],
      "metadata": {
        "colab": {
          "base_uri": "https://localhost:8080/"
        },
        "id": "HvB27WkiqfR5",
        "outputId": "8332ea91-f506-4326-f80d-3a01a1567054"
      },
      "execution_count": null,
      "outputs": [
        {
          "output_type": "stream",
          "name": "stdout",
          "text": [
            "13\n",
            "75025\n"
          ]
        }
      ]
    },
    {
      "cell_type": "markdown",
      "source": [
        "##O(n!) - Factorial Complexity\n",
        "เป็น Horrible Algorithm ความเร็วช้ามากที่สุด ตัวอย่างเช่น the travelling salesman problem using brute force, where every combination of paths will be examined. หรือ loop with recursive"
      ],
      "metadata": {
        "id": "IWvI29qLs6SX"
      }
    },
    {
      "cell_type": "code",
      "source": [
        "def factorial(num):\n",
        " if(num == 1):\n",
        "   return 1\n",
        " for i in range(0, num):\n",
        "   return num * factorial(num-1)\n",
        " \n",
        "print(factorial(9))"
      ],
      "metadata": {
        "colab": {
          "base_uri": "https://localhost:8080/"
        },
        "id": "-_YEOS9KuVMj",
        "outputId": "be1e78a1-186d-436d-937e-fa258922d602"
      },
      "execution_count": null,
      "outputs": [
        {
          "output_type": "stream",
          "name": "stdout",
          "text": [
            "362880\n"
          ]
        }
      ]
    },
    {
      "cell_type": "markdown",
      "source": [
        "\n",
        "\n",
        "![alt text](https://i2.wp.com/codefantasies.com/wp-content/uploads/2019/12/Screen-Shot-2019-11-19-at-01.01.12.png?w=1480)\n",
        "\n",
        "![alt text](https://i0.wp.com/codefantasies.com/wp-content/uploads/2019/12/Screen-Shot-2019-11-19-at-01.03.01.png?w=1480)\n",
        "\n",
        "Image: bigocheatsheet"
      ],
      "metadata": {
        "id": "BRAWLS_53JVg"
      }
    },
    {
      "cell_type": "markdown",
      "source": [
        "##How to calculate Big O Notation\n",
        "\n",
        "**ขั้นตอนการคำนวณหา Big O**\n",
        "\n",
        "1. ถ้ามี Nested Loop จะเอา Big O แต่ละ Loop มาคูณ (x) กัน\n",
        "\n",
        "2. ถ้าเป็น Loop ที่อยู่ Level เดียวกัน (หรือเรียงต่อกัน ไม่ได้เป็น Nested Loop) ให้เอา Big O มาบวก (+) กัน\n",
        "\n",
        "3. ถ้ารวมกันหมดแล้ว Big O มีหลาย Term ให้สนใจเฉพาะ ตัวที่แย่ที่สุด \n",
        "*   เนื่องจากตามนิยาม Big O หมายถึง Worst Case\n",
        "*   ถ้ามองในมุมของคณิตศาสตร์ เมื่อ n มีค่าเพิ่มมากขึ้นเรื่อย ๆ Pattern ที่มีค่า Big O ต่ำ จะมีนัยสำคัญน้อยลงไปเรื่อย ๆ เมื่อเทียบกับ Pattern ที่มีค่า Big O สูง เนื่องจากค่า n มันจะส่งผลกระทบรุนแรงขึ้นเรื่อย ๆ\n",
        "*   ต้องอย่าลืมว่า เราหา Big O ของ Algorithm เมื่อ n มีค่าเพิ่มขึ้นเรื่อย ๆ \n",
        "*   ตัวอย่าง เช่น O(n²) + O(n) + O(1) จะได้ Big O ออกมาเป็น O(n²) \n",
        "4. ไม่ต้องสนใจค่าคงที่ (Constant) เหตุผลก็เหมือนข้อสาม\n",
        "5. คำสั่ง Conditional เช่น if, switch หรือ operator พวก +, -, >, <, = ถือว่าเป็น Constant\n",
        "6. ถ้ามีการเรียกใช้ function ภายนอก ต้องคำนวณ Big O ของ function ภายนอกนั้นด้วย"
      ],
      "metadata": {
        "id": "MD0bym-uBFQf"
      }
    },
    {
      "cell_type": "markdown",
      "source": [
        "## Big O Notation and Algorithm Examples\n",
        "\n",
        "**Algorithm 1** \n",
        "\n",
        "```\n",
        "public void printFirstItem(int[] arrayOfItems) \n",
        "{\n",
        "    System.out.println(arrayOfItems[0]);   // Constant\n",
        "}\n",
        "\n",
        "```\n",
        "> **Ans:** Big O = O(1) = 1 เพราะไม่มี Loop อะไรเลย ส่วน Constant ตัดทิ้ง\n",
        "\n",
        "**Algorithm 2** \n",
        "\n",
        "```\n",
        "public void printAllItems(int[] arrayOfItems) \n",
        "{\n",
        "  for (int item : arrayOfItems) {        // O(n)\n",
        "      System.out.println(item);          // Constant\n",
        "  }\n",
        "}\n",
        "```\n",
        "> **Ans:** Big O = O(n) * O(1) = O(n) นึกเป็นคำพูดในหัวง่าย ๆ ทำ n รอบ แต่ละรอบ ทำ Constant 1 ครั้ง\n",
        "\n",
        "**Algorithm 3**\n",
        "\n",
        "```\n",
        "public void printAllPossibleOrderedPairs(int[] arrayOfItems) \n",
        "{\n",
        "    for (int firstItem : arrayOfItems) {                          // O(n)\n",
        "        for (int secondItem : arrayOfItems) {                     // O(n)\n",
        "            int[] orderedPair = new int[]{firstItem, secondItem}; // constant\n",
        "            System.out.println(Arrays.toString(orderedPair));     // constant\n",
        "        }\n",
        "    }\n",
        "}\n",
        "```\n",
        "> **Ans:** Big O = O(n) * O(n) = O(n²) เพราะมี 2-Nested Loop\n",
        "\n",
        "**Algorithm 4**\n",
        "\n",
        "```\n",
        "public void printAllItemsTwice(int[] theArray) \n",
        "{\n",
        "    for (int item : theArray) {        // O(n)\n",
        "        System.out.println(item);\n",
        "    }\n",
        "    for (int item : theArray) {        // O(n)\n",
        "        System.out.println(item);\n",
        "    }\n",
        "}\n",
        "```\n",
        "> **Ans:** Big O = O(n) + O(n) = O(2n) = O(n) ที่เอามาบวกกันเพราะว่าเป็น Loop ที่อยู่ Level เดียวกัน ไม่ได้ซ้อน Nested เข้าไป แต่สุดท้ายเราก็ตัดเลขสองออกอยู่ดี ตามหลักการข้อ 4 ที่กล่าวไปแล้ว คือ เมื่อ n เพิ่มเยอะมากขึ้นเรื่อย ๆ การคูณด้วยค่าคงที่ ถือว่าไม่มีนัยสำคัญ อารมณ์เหมือน 100M กับ 200M มิลลิวินาที ก็เยอะทั้งคู่อยู่ดี\n",
        "\n",
        "**Algorithm 5**\n",
        "\n",
        "```\n",
        "public void printAllNumbersThenAllPairSums(int[] arrayOfNumbers) \n",
        "{\n",
        "System.out.println(\"these are the numbers:\");\n",
        "    for (int number : arrayOfNumbers) {            // O(n)\n",
        "        System.out.println(number);\n",
        "    }\n",
        "System.out.println(\"and these are their sums:\");\n",
        "                                                  // O (n^2)\n",
        "    for (int firstNumber : arrayOfNumbers) {\n",
        "        for (int secondNumber : arrayOfNumbers) {\n",
        "            System.out.println(firstNumber + secondNumber);\n",
        "        }\n",
        "    }\n",
        "}\n",
        "```\n",
        "> **Ans:** Big O = O(n) + O(n²) = O(n²) เนื่องจากอยู่ Level เดียวกัน เลยเอามาบวกกัน แต่สุดท้ายก็ตัดเหลือเฉพาะ term ที่ค่า n ส่งผลเยอะที่สุดอยู่ดี\n",
        "\n",
        "**Algorithm 6**\n",
        "\n",
        "```\n",
        "for(int i = 0; i < 2*n; i++)      // O(2n)\n",
        "{ \n",
        "    cout << i << endl;\n",
        "}\n",
        "```\n",
        "> **Ans:** Big O = O(2n) = O(n) อยู่ดี\n",
        "\n",
        "**Algorithm 7**\n",
        "\n",
        "```\n",
        "for(int i = 0; i < n; i++)           // O(n)\n",
        "{ \n",
        "    for(int j = 0; j < 2; j++) {     // O(1)\n",
        "      // do stuff\n",
        "    }\n",
        "}\n",
        "```\n",
        "> **Ans:** Big O = O(n) * O(1) = O(n) อันนี้ไม่ใช่เห็น 2-Nested Loop แล้วจัด O(n²) เลย ผิด เพราะ Inner-Loop เป็น O(1)\n",
        "\n",
        "**Algorithm 8**\n",
        "\n",
        "```\n",
        "for(int i = 0; i < n; i++)            // O(n)\n",
        "{ \n",
        "    for(int j = 1; j <= n; j *= 2) {  // O(log n)\n",
        "      // do constant time stuff\n",
        "    }\n",
        "}\n",
        "```\n",
        "> **Ans:** Big O = O(n) * O(log n) = O(n log n) สังเกตว่า Inner Loop ค่า j จะเพิ่มทีละ 2 เท่า ของ j เดิม ณ ขณะนั้น มันเลยใช้เวลาน้อย ไปตกอยู่ช่วงของ log n\n",
        "\n",
        "**Algorithm 9**\n",
        "\n",
        "```\n",
        "for(int i = 0; i < n*n; i++)     // O(n) * O(n)\n",
        "{ \n",
        "  cout << i << endl;\n",
        "}\n",
        "```\n",
        "> **Ans:** Big O = O(n) * O(n) = O(n²) ถึงแม้จะไม่มี Nested Loop แต่ใน Condition มันเป็น n*n ไม่ใช่ n เฉย ๆ ต้องระวัง\n",
        "\n",
        "**Algorithm 10**\n",
        "\n",
        "```\n",
        "for(j=1; j<=n; j++)             // O(n)\n",
        "{ \n",
        "    for(k=1; k<=n; k++)         // O(n)\n",
        "    {                         \n",
        "        c[j][k] = 1;\n",
        "        for(l=1; l<=n; l++)     // O(n)\n",
        "        { \n",
        "            c[j][k] = c[j][k] * b[l][k];\n",
        "        }\n",
        "    }\n",
        "}\n",
        "```\n",
        "> **Ans:** Big O = O(n) * O(n) * O(n) = O(n³) 3-Nested Loop\n",
        "\n",
        "**Algorithm 11**\n",
        "\n",
        "```\n",
        "void nFacRuntimeFunc(int n) \n",
        "{\n",
        "    for(int i=0; i<n; i++) {      // O(n)\n",
        "        nFacRuntimeFunc(n-1);     // O(n-1)... because it is recursive\n",
        "    }\n",
        "}\n",
        "```\n",
        "> **Ans:** Big O = O(n) * O(n-1) * O(n-2) * … * O(1) = O(n!) \n",
        "\n",
        "**Algorithm 12**\n",
        "\n",
        "```\n",
        "void functionA(int n) \n",
        "{\n",
        "    for(j=1; j<=n; j++)           // O(n)\n",
        "    { \n",
        "        functionB(n) // functionA calls to another function (functionB)\n",
        "    }\n",
        "}\n",
        "\n",
        "void functionB(int n) \n",
        "{\n",
        "    for(k=1; k<=n; k++)           // O(n)\n",
        "    { \n",
        "        for(l=1; l<=n; l++)       // O(n)\n",
        "        {                         \n",
        "            // do something\n",
        "        }\n",
        "    }\n",
        "}\n",
        "```\n",
        "> **Ans:** Big O = O(n) * O(n) * O(n) = O(n³) ใน function A มีแค่ Loop เดียวก็จริง แต่ในแต่ละรอบนั้นเรียก functionB ด้วยทุกครั้ง ทำให้เราต้องคูณ Big O ของ functionB เข้าไปกับ Big O ของ functionA ด้วย\n",
        "\n",
        "Source: itopstory\n"
      ],
      "metadata": {
        "id": "JZdVsln-FWC8"
      }
    }
  ]
}